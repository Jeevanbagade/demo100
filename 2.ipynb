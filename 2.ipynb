{
 "cells": [
  {
   "cell_type": "code",
   "execution_count": null,
   "metadata": {},
   "outputs": [],
   "source": [
    "def sqr(num):\n",
    "    res=num*num\n",
    "    print(res)\n",
    "inp=int(input(\"enter the number\"))\n",
    "sqr(inp)\n"
   ]
  },
  {
   "cell_type": "code",
   "execution_count": 3,
   "metadata": {},
   "outputs": [
    {
     "name": "stdout",
     "output_type": "stream",
     "text": [
      "20\n",
      "jeevan\n",
      "2000.0\n"
     ]
    }
   ],
   "source": [
    "def age(num):\n",
    "    res=num\n",
    "    print(res)\n",
    "inp=int(input(\"enter the age\"))\n",
    "age(inp)\n",
    "def name(name):\n",
    "    res=name\n",
    "    print(res)\n",
    "inp=str(input(\"enter the name\"))\n",
    "name(inp)\n",
    "def salary(num):\n",
    "    res=num\n",
    "    print(res)\n",
    "inp=float(input(\"enter the salary\"))\n",
    "salary(inp)\n"
   ]
  },
  {
   "cell_type": "code",
   "execution_count": 8,
   "metadata": {},
   "outputs": [
    {
     "name": "stdout",
     "output_type": "stream",
     "text": [
      "Enter your details\n",
      "\n",
      "Hello  dgryg  as your age is  35  and your salary is  234164.0  so we offer you the loan.\n",
      "Hello  dgryg  as your age is  35  and your salary is  234164.0  so we offer you the loan.\n",
      "Hello  dgryg  as your age is  35  and your salary is  234164.0  so we offer you the loan.\n"
     ]
    }
   ],
   "source": [
    "def getdata():\n",
    "    print(\"Enter your details\\n\")\n",
    "    for x in range(3):\n",
    "        name = input(\"Enter your name: \") # string\n",
    "        age = int(input(\"Enter your age: \"))  # integer\n",
    "        salary = float(input(\"Enter your salary: \")) # float    \n",
    "    display(name,age,salary)\n",
    "\n",
    "def display(name,age,salary):\n",
    "    for x in range(3):\n",
    "        print(\"Hello \",name,\" as your age is \",age,\" and your salary is \",salary,\" so we offer you the loan.\")\n",
    "\n",
    "\n",
    "getdata()\n"
   ]
  }
 ],
 "metadata": {
  "kernelspec": {
   "display_name": "Python 3",
   "language": "python",
   "name": "python3"
  },
  "language_info": {
   "codemirror_mode": {
    "name": "ipython",
    "version": 3
   },
   "file_extension": ".py",
   "mimetype": "text/x-python",
   "name": "python",
   "nbconvert_exporter": "python",
   "pygments_lexer": "ipython3",
   "version": "3.11.1"
  },
  "orig_nbformat": 4,
  "vscode": {
   "interpreter": {
    "hash": "4363d1e9bd585872e59029cec22e3d2b0bcd6824d374e074a7fb18f30784fead"
   }
  }
 },
 "nbformat": 4,
 "nbformat_minor": 2
}
