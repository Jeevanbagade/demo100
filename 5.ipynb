{
 "cells": [
  {
   "cell_type": "code",
   "execution_count": 1,
   "metadata": {},
   "outputs": [
    {
     "name": "stdout",
     "output_type": "stream",
     "text": [
      "1.2\n"
     ]
    }
   ],
   "source": [
    "p=30\n",
    "r=1\n",
    "t=4\n",
    "si=(p*t*r)/100\n",
    "print(si)"
   ]
  },
  {
   "cell_type": "code",
   "execution_count": 4,
   "metadata": {},
   "outputs": [
    {
     "name": "stdout",
     "output_type": "stream",
     "text": [
      "1000\n"
     ]
    }
   ],
   "source": [
    "shortnum=1000\n",
    "print(shortnum)"
   ]
  },
  {
   "cell_type": "code",
   "execution_count": 1,
   "metadata": {},
   "outputs": [
    {
     "name": "stdout",
     "output_type": "stream",
     "text": [
      "enter the elements\n",
      "[2, 10, 6, 1]|[2, 6, 10, 1]|[2, 6, 1, 10]|[2, 1, 6, 10]|[1, 2, 6, 10]|"
     ]
    }
   ],
   "source": [
    "list=[]\n",
    "n=int(input(\"enter the n value:\"))\n",
    "print(\"enter the elements\")\n",
    "for i in range(n):\n",
    "    list.append(int(input()))\n",
    "for i in range(0,n-1):\n",
    "    for j in range(0,n-1-i):\n",
    "        if(list[j]>list[j+1]):\n",
    "            temp=list[j]\n",
    "            list[j]=list[j+1]\n",
    "            list[j+1]=temp\n",
    "            print(list,end=\"|\")"
   ]
  },
  {
   "cell_type": "code",
   "execution_count": 26,
   "metadata": {},
   "outputs": [
    {
     "name": "stdout",
     "output_type": "stream",
     "text": [
      "c= 30\n"
     ]
    }
   ],
   "source": [
    "def sum(a,b):\n",
    "    print(\"c=\",a+b)\n",
    "\n",
    "sum(10,20)\n"
   ]
  },
  {
   "cell_type": "code",
   "execution_count": 9,
   "metadata": {},
   "outputs": [
    {
     "name": "stdout",
     "output_type": "stream",
     "text": [
      "tri= 6.0\n",
      "square of no= 9\n",
      "perimeter= 12\n",
      "area of rectangle= 13\n",
      "perimetre of rectangle= 16\n",
      "area of circle 18.0\n"
     ]
    }
   ],
   "source": [
    "a=3\n",
    "b=4\n",
    "l=4\n",
    "r=6\n",
    "print(\"tri=\",0.5*a*b)\n",
    "print(\"square of no=\",a*a )\n",
    "print(\"perimeter=\",4*a)\n",
    "print(\"area of rectangle=\",l*b-a)\n",
    "print(\"perimetre of rectangle=\",2*(l+b))\n",
    "print(\"area of circle\",0.5*r*r)\n"
   ]
  },
  {
   "cell_type": "code",
   "execution_count": 18,
   "metadata": {},
   "outputs": [
    {
     "name": "stdout",
     "output_type": "stream",
     "text": [
      "swaping of two numbers\n",
      "20 10\n"
     ]
    }
   ],
   "source": [
    "print(\"swaping of two numbers\")\n",
    "a=10\n",
    "b=20\n",
    "c=a\n",
    "a=b\n",
    "b=c\n",
    "print(a,b)\n"
   ]
  },
  {
   "cell_type": "code",
   "execution_count": 28,
   "metadata": {},
   "outputs": [
    {
     "name": "stdout",
     "output_type": "stream",
     "text": [
      "number is zero\n"
     ]
    }
   ],
   "source": [
    "n=int(input(\"enter the number\"))\n",
    "if n>0:\n",
    "    print(\"number is postive\",n)\n",
    "elif n<0:\n",
    "    print(\"number is negtive\",n)\n",
    "else:\n",
    "    print(\"number is zero\")"
   ]
  },
  {
   "cell_type": "code",
   "execution_count": 29,
   "metadata": {},
   "outputs": [
    {
     "name": "stdout",
     "output_type": "stream",
     "text": [
      "number is odd 3\n"
     ]
    }
   ],
   "source": [
    "n=int(input(\"enter the number\"))\n",
    "if(n%2==0):\n",
    "    print(\"number is even\",n)\n",
    "else:\n",
    "    print(\"number is odd\",n)"
   ]
  },
  {
   "cell_type": "code",
   "execution_count": 33,
   "metadata": {},
   "outputs": [
    {
     "name": "stdout",
     "output_type": "stream",
     "text": [
      "c is biggest\n",
      "c is biggest\n"
     ]
    }
   ],
   "source": [
    "a=int(input(\"enter the number\"))\n",
    "b=int(input(\"enter the number\"))\n",
    "c=int(input(\"enter the number\"))\n",
    "if(a>c):\n",
    "    print(\"a is biggest\")\n",
    "else:\n",
    "    print(\"c is biggest\")\n",
    "if(b>c):\n",
    "    print(\"b is biggest\")\n",
    "else:\n",
    "    print(\"c is biggest\")"
   ]
  }
 ],
 "metadata": {
  "kernelspec": {
   "display_name": "Python 3",
   "language": "python",
   "name": "python3"
  },
  "language_info": {
   "codemirror_mode": {
    "name": "ipython",
    "version": 3
   },
   "file_extension": ".py",
   "mimetype": "text/x-python",
   "name": "python",
   "nbconvert_exporter": "python",
   "pygments_lexer": "ipython3",
   "version": "3.11.1"
  },
  "orig_nbformat": 4,
  "vscode": {
   "interpreter": {
    "hash": "4363d1e9bd585872e59029cec22e3d2b0bcd6824d374e074a7fb18f30784fead"
   }
  }
 },
 "nbformat": 4,
 "nbformat_minor": 2
}
